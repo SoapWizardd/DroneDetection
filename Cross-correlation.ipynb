{
 "cells": [
  {
   "cell_type": "markdown",
   "id": "645a3636",
   "metadata": {},
   "source": [
    "sounddevice, soundfile python libraries"
   ]
  },
  {
   "cell_type": "code",
   "execution_count": null,
   "id": "2f56de47",
   "metadata": {},
   "outputs": [],
   "source": [
    "import numpy as np\n",
    "import matplotlib.pyplot as plt\n",
    "import plotly.express as px\n",
    "import pandas as pd\n",
    "import librosa\n",
    "import IPython.display as ipd\n",
    "from scipy.fft import fft, ifft, fftfreq\n",
    "import scipy.signal as sig"
   ]
  },
  {
   "cell_type": "code",
   "execution_count": null,
   "id": "cb891b56",
   "metadata": {},
   "outputs": [],
   "source": [
    "filename = librosa.example('nutcracker')\n",
    "y1, sr1 = librosa.load(filename)\n",
    "y2, sr2 = librosa.load(\"bzz.mp3\")\n",
    "y3, sr3 = librosa.load(\"drone_stock.wav\")\n",
    "y4, sr4 = librosa.load(\"drone_felix.mp3\")\n",
    "y5, sr5 = librosa.load(\"movement2_Scarlett 18i20 3rd Gen Multichannel_capture_AUX0.wav\",sr=48000)\n",
    "y6, sr6 = librosa.load(\"movement2_Scarlett 18i20 3rd Gen Multichannel_capture_AUX1.wav\",sr=48000)\n",
    "y7, sr7 = librosa.load(\"movement2_Scarlett 18i20 3rd Gen Multichannel_capture_AUX2.wav\",sr=48000)\n",
    "y8, sr8 = librosa.load(\"movement2_Scarlett 18i20 3rd Gen Multichannel_capture_AUX3.wav\",sr=48000)"
   ]
  },
  {
   "cell_type": "code",
   "execution_count": null,
   "id": "4e1d6571",
   "metadata": {},
   "outputs": [],
   "source": [
    "file = \"static5\"\n",
    "\n",
    "y0, sr = librosa.load(file+\"_Scarlett 18i20 3rd Gen Multichannel_capture_AUX0.wav\",sr=48000)\n",
    "y1, sr = librosa.load(file+\"_Scarlett 18i20 3rd Gen Multichannel_capture_AUX1.wav\",sr=48000)\n",
    "y2, sr = librosa.load(file+\"_Scarlett 18i20 3rd Gen Multichannel_capture_AUX2.wav\",sr=48000)\n",
    "y3, sr = librosa.load(file+\"_Scarlett 18i20 3rd Gen Multichannel_capture_AUX3.wav\",sr=48000)"
   ]
  },
  {
   "cell_type": "code",
   "execution_count": null,
   "id": "5ac92890",
   "metadata": {},
   "outputs": [],
   "source": [
    "sr4"
   ]
  },
  {
   "cell_type": "code",
   "execution_count": null,
   "id": "0a480dce",
   "metadata": {},
   "outputs": [],
   "source": [
    "sr6"
   ]
  },
  {
   "cell_type": "code",
   "execution_count": null,
   "id": "77ccb2f2",
   "metadata": {},
   "outputs": [],
   "source": [
    "ipd.Audio(y4,rate=2*sr4)"
   ]
  },
  {
   "cell_type": "code",
   "execution_count": null,
   "id": "54a7c00d",
   "metadata": {},
   "outputs": [],
   "source": [
    "N = 50000\n",
    "t = np.arange(0,N,1)\n",
    "T = 1000\n",
    "A = 0\n",
    "signal0 = np.zeros(N)\n",
    "signal1 = A*(np.sin(t/T))\n",
    "signal2 = A*(1/np.sqrt(5)*np.sin(t/T)+2/np.sqrt(5)*np.cos(3*t/T))\n",
    "signal3 = A*(np.sin(np.sqrt(t)/T))\n",
    "signal4 = A*(np.sin(t**2/T))\n",
    "signal5 = y1\n",
    "signal6 = y2\n",
    "signal7 = y3\n",
    "signal8 = y4\n",
    "noise = np.random.normal(0,1,N)\n",
    "noise1 = A*np.random.normal(0,1,N)\n",
    "noise2 = A*np.random.normal(0,1,N)\n",
    "noise_cauchy = np.random.standard_cauchy(N)\n",
    "\n",
    "\n",
    "source = noise\n",
    "\n",
    "time_start = 0*int(sr4*5)\n",
    "time_duration = int(sr4*0.1)\n",
    "time_diff = sr4//100\n",
    "received_1 = source[time_start:time_start+time_duration]+noise1[time_start:time_start+time_duration]\n",
    "received_2 = source[time_start+time_diff:time_start+time_duration+time_diff]+noise2[time_start+time_diff:time_start+time_duration+time_diff]\n",
    "received_0 = y0[time_start:time_start+time_duration]\n",
    "#received_1 = y1[time_start:time_start+time_duration]\n",
    "#received_2 = y2[time_start:time_start+time_duration]\n",
    "received_3 = y3[time_start:time_start+time_duration]\n",
    "\n",
    "lo = 1000\n",
    "hi = 500000\n",
    "soslow = sig.butter(10, 1000, btype='lowpass', fs = sr4, analog=False,output='sos')\n",
    "soshi = sig.butter(10, 9000, btype='highpass', fs = sr4, analog=False,output='sos')\n",
    "\n",
    "low_filtered_1 = sig.sosfilt(soslow, received_1)\n",
    "low_filtered_2 = sig.sosfilt(soslow, received_2)\n",
    "\n",
    "hi_filtered_1 = sig.sosfilt(soshi, received_1)\n",
    "hi_filtered_2 = sig.sosfilt(soshi, received_2)\n"
   ]
  },
  {
   "cell_type": "code",
   "execution_count": null,
   "id": "8700748c",
   "metadata": {
    "scrolled": false
   },
   "outputs": [],
   "source": [
    "N = np.ones(4400)\n",
    "lowfilter = np.abs(ifft(sig.sosfilt(soslow,ifft(N))))\n",
    "highfilter = np.abs(ifft(sig.sosfilt(soshi,ifft(N))))\n",
    "lowfiltered = np.abs(ifft(low_filtered_1))\n",
    "highfiltered = np.abs(ifft(hi_filtered_1))\n",
    "spectrum = np.abs(ifft(received_1))\n",
    "equalized_spectrum = np.abs(ifft(equalize(received_1)))\n",
    "\n",
    "data = {\n",
    "    'frequency (kHz)': np.arange(2200)/2.2e6*sr4/2,\n",
    "    'lowpass': lowfilter[:2200]/max(lowfilter),\n",
    "    'highpass': highfilter[:2200]/max(lowfilter),\n",
    "    'lowfiltered': lowfiltered[:2200]/max(lowfiltered),\n",
    "    'highfiltered': highfiltered[:2200]/max(highfiltered),\n",
    "    'signal': spectrum[:2200]/max(spectrum),\n",
    "    \"eq\": equalized_spectrum[:2200]/max(equalized_spectrum)\n",
    "}\n",
    "df = pd.DataFrame(data)\n",
    "fig = px.line(df,'frequency (kHz)',[\"highfiltered\",\"lowfiltered\"],labels={\"value\":\"intensity\"})\n",
    "fig.update_layout(\n",
    "    font_family=\"Times New Roman\",\n",
    "    font_color=\"black\",\n",
    "    font_size=25,\n",
    "    autosize=False,\n",
    "    width=600,\n",
    "    height=600,\n",
    "    showlegend=False)\n",
    "\n",
    "fig.show()"
   ]
  },
  {
   "cell_type": "code",
   "execution_count": null,
   "id": "6da5e37c",
   "metadata": {},
   "outputs": [],
   "source": [
    "data = {\n",
    "   'time':np.arange(time_duration)/sr4*1000,\n",
    "   #'amplitude0':received_0,\n",
    "   'amplitude1':received_1,\n",
    "   'amplitude2':received_2,\n",
    "   #'amplitude3':received_3,\n",
    "   #'lo_1': low_filtered_1,\n",
    "   #'hi_1': hi_filtered_1,\n",
    "}\n",
    "df = pd.DataFrame(data)"
   ]
  },
  {
   "cell_type": "code",
   "execution_count": null,
   "id": "5c974a03",
   "metadata": {
    "scrolled": false
   },
   "outputs": [],
   "source": [
    "fig = px.line(df,x='time',y=['amplitude1','amplitude2'],labels={\"time\": \"time (ms)\",\"value\":\"signal amplitude\"})\n",
    "fig.update_layout(\n",
    "    font_family=\"Times New Roman\",\n",
    "    font_color=\"black\",\n",
    "    font_size=35,\n",
    "    showlegend=False)\n",
    "fig.show()"
   ]
  },
  {
   "cell_type": "code",
   "execution_count": null,
   "id": "abe0a335",
   "metadata": {},
   "outputs": [],
   "source": [
    "data = {\n",
    "   'time':(np.arange(time_duration)-time_duration/2)/sr4*1000,\n",
    "   'amplitude0':received_0,\n",
    "   'amplitude1':received_1,\n",
    "   'amplitude2':received_2,\n",
    "   'amplitude3':received_3,\n",
    "    'corr12': sig.correlate(received_1,received_2,mode=\"same\"),\n",
    "   'corr01': sig.correlate(received_0,received_1,mode=\"same\"),\n",
    "   'corr02': sig.correlate(received_0,received_2,mode=\"same\"),\n",
    "   'cross-correlation (unfiltered)': sig.correlate(received_1,received_2,mode=\"same\")/max(sig.correlate(received_1,received_2,mode=\"same\")),\n",
    "   'cross-correlation (equalized)': sig.correlate(equalize(received_1),equalize(received_2),mode=\"same\")/max(sig.correlate(equalize(received_1),equalize(received_2),mode=\"same\")),\n",
    "   'cross-correlation (lowpass)': sig.correlate(low_filtered_1,low_filtered_2,mode=\"same\")/max(sig.correlate(low_filtered_1,low_filtered_2,mode=\"same\")),\n",
    "    'cross-correlation (highpass)': sig.correlate(hi_filtered_1,hi_filtered_2,mode=\"same\")/max(sig.correlate(hi_filtered_1,hi_filtered_2,mode=\"same\")),\n",
    "    'corr03': sig.correlate(received_0,received_3,mode=\"same\") \n",
    "}\n",
    "df = pd.DataFrame(data)"
   ]
  },
  {
   "cell_type": "code",
   "execution_count": null,
   "id": "987702cd",
   "metadata": {},
   "outputs": [],
   "source": [
    "fig = px.line(df,x='time',y=['corr12'],labels={\"time\": \"timeshift (ms)\",\"value\": \"cross-correlation\"})\n",
    "#fig.update_layout(xaxis = dict(tickmode = 'linear',tick0 = 0,dtick = 100))\n",
    "fig.update_layout(\n",
    "    font_family=\"Times New Roman\",\n",
    "    font_color=\"black\",\n",
    "    font_size=35,\n",
    "    showlegend=False)\n",
    "fig.show()\n"
   ]
  },
  {
   "cell_type": "code",
   "execution_count": null,
   "id": "c669e7ab",
   "metadata": {
    "scrolled": false
   },
   "outputs": [],
   "source": [
    "fig = px.line(df,x='time',y=['cross-correlation (highpass)','cross-correlation (lowpass)','cross-correlation (unfiltered)'],labels={\"time\": \"timeshift (ms)\",\"value\": \"cross-correlation\"})\n",
    "#fig.update_layout(xaxis = dict(tickmode = 'linear',tick0 = 0,dtick = 100))\n",
    "fig.update_layout(\n",
    "    font_family=\"Times New Roman\",\n",
    "    font_color=\"black\",\n",
    "    font_size=25,\n",
    "    showlegend=True)\n",
    "fig.show()\n"
   ]
  },
  {
   "cell_type": "code",
   "execution_count": null,
   "id": "c2827a31",
   "metadata": {},
   "outputs": [],
   "source": []
  },
  {
   "cell_type": "code",
   "execution_count": null,
   "id": "840e54ac",
   "metadata": {},
   "outputs": [],
   "source": [
    "50/22.05"
   ]
  },
  {
   "cell_type": "markdown",
   "id": "4f4ca884",
   "metadata": {},
   "source": [
    "### np.argmax(sig.correlate(received_1,received_2,mode=\"same\"))"
   ]
  },
  {
   "cell_type": "code",
   "execution_count": null,
   "id": "5d3b8a96",
   "metadata": {},
   "outputs": [],
   "source": [
    "ipd.Audio(received_1,rate=sr1)"
   ]
  },
  {
   "cell_type": "code",
   "execution_count": null,
   "id": "ef8eca60",
   "metadata": {},
   "outputs": [],
   "source": [
    "ipd.Audio(received_2,rate=sr)"
   ]
  },
  {
   "cell_type": "code",
   "execution_count": null,
   "id": "6344a439",
   "metadata": {},
   "outputs": [],
   "source": [
    "transform = fft(signal8[:20000])\n",
    "fig = px.line(np.abs(transform)[:len(transform)//2])\n",
    "fig.show()"
   ]
  },
  {
   "cell_type": "code",
   "execution_count": null,
   "id": "c7c1d539",
   "metadata": {},
   "outputs": [],
   "source": [
    "1/48e3*343"
   ]
  },
  {
   "cell_type": "markdown",
   "id": "d8140c49",
   "metadata": {},
   "source": [
    "# Robustness Tests/Parameter Study"
   ]
  },
  {
   "cell_type": "markdown",
   "id": "81078d9d",
   "metadata": {},
   "source": [
    "## Doppler shift"
   ]
  },
  {
   "cell_type": "code",
   "execution_count": null,
   "id": "ffe24266",
   "metadata": {},
   "outputs": [],
   "source": [
    "def sample_doppler(factors,Nsim,resample=1):\n",
    "    lo = 20\n",
    "    hi = 2000\n",
    "    diff = []\n",
    "    difff = []\n",
    "    rel_height = []\n",
    "    rel_heightf = []\n",
    "    for f in factors:\n",
    "        d = []\n",
    "        df = []\n",
    "        rh = []\n",
    "        rhf = []\n",
    "        \n",
    "        for i in range(int(Nsim)):\n",
    "            \n",
    "            N = 5000\n",
    "            t = np.arange(0,N,1)\n",
    "            T = 100\n",
    "            signal8 = y4\n",
    "            A = .01\n",
    "            noise1 = np.random.normal(0,1,N)\n",
    "            noise1 = A*noise1/max(noise1)\n",
    "            noise2 = np.random.normal(0,1,N)\n",
    "            noise2 = A*noise2/max(noise2)\n",
    "\n",
    "            source = signal8/max(signal8)\n",
    "            source_shifted = sig.resample(source,int(len(source)/f))\n",
    "            t0 = int(sr4*5)\n",
    "            dt = int(sr4*0.2)\n",
    "            td = sr4//50\n",
    "            received_1 = source[t0:t0+dt]+noise1[:dt]\n",
    "            received_2 = source_shifted[t0+td:t0+td+dt]+noise2[:dt]\n",
    "            #filtered_1 = butter_filter(received_1,[lo,hi],sr1,10)\n",
    "            #filtered_2 = butter_filter(received_2,[lo,hi],sr1,10)\n",
    "            corr = sig.correlate(received_1,received_2,mode=\"same\")\n",
    "            maxima = corr[sig.argrelmax(corr)[0]]\n",
    "            maxima_sorted = np.sort(maxima)\n",
    "            max_cross = np.argmax(corr)\n",
    "            relative_height = maxima_sorted[-1]/maxima_sorted[-2]\n",
    "            d.append(max_cross-dt//2)\n",
    "            rh.append(relative_height)\n",
    "            \n",
    "            corr = sig.correlate(equalize(received_1),equalize(received_2),mode=\"same\")\n",
    "            maxima = corr[sig.argrelmax(corr)[0]]\n",
    "            maxima_sorted = np.sort(maxima)\n",
    "            max_cross = np.argmax(corr)\n",
    "            relative_height = maxima_sorted[-1]/maxima_sorted[-2]\n",
    "            df.append(max_cross-dt//2)\n",
    "            rhf.append(relative_height)\n",
    "        rel_height.append(np.mean(rh))\n",
    "        rel_heightf.append(np.mean(rhf))\n",
    "        diff.append(np.mean(d))\n",
    "        difff.append(np.mean(df))\n",
    "    data = {\n",
    "   'f':factors,\n",
    "   'unfiltered':np.array(diff)/sr4*1000,\n",
    "   'equalized':np.array(difff)/sr4*1000,\n",
    "   'relative strength (unfiltered)':rel_height,\n",
    "    'relative strength (equalized)': rel_heightf\n",
    "    }\n",
    "    return pd.DataFrame(data)\n",
    "    \n",
    "    return data"
   ]
  },
  {
   "cell_type": "code",
   "execution_count": null,
   "id": "24dda778",
   "metadata": {},
   "outputs": [],
   "source": [
    "out = sample_doppler(np.linspace(0.99,1.01,50),5)"
   ]
  },
  {
   "cell_type": "code",
   "execution_count": null,
   "id": "4cd74329",
   "metadata": {},
   "outputs": [],
   "source": [
    "fig = px.line(out,x='f',y=['relative strength (unfiltered)','relative strength (equalized)'],log_y=False,labels={'f': '$\\\\alpha$','value':'relative strength'})\n",
    "\n",
    "fig.update_layout(\n",
    "    font_family=\"Times New Roman\",\n",
    "    font_color=\"black\",\n",
    "    font_size=25,\n",
    "    #autosize=False,\n",
    "    #width=800,\n",
    "    #height=500,\n",
    "    showlegend=False)\n",
    "\n",
    "fig.show()"
   ]
  },
  {
   "cell_type": "code",
   "execution_count": null,
   "id": "2f3f56ab",
   "metadata": {},
   "outputs": [],
   "source": [
    "N = 500000\n",
    "t = np.arange(0,N,1)\n",
    "T = 10\n",
    "A = 0.01\n",
    "signal0 = np.zeros(N)\n",
    "signal1 = A*(np.sin(t/T))\n",
    "signal5 = y1\n",
    "signal6 = y2\n",
    "signal7 = y3\n",
    "signal8 = y4\n",
    "noise = np.random.normal(0,1,N)\n",
    "noise1 = np.random.normal(0,1,N)\n",
    "noise2 = np.random.normal(0,1,N)\n",
    "\n",
    "source = signal8/max(signal8)\n",
    "source_shifted = sig.resample(source,int(len(source)/1.01))\n",
    "\n",
    "t0 = 15000\n",
    "dt = 10000\n",
    "td = 100\n",
    "received_1 = source[t0:t0+dt]+A*noise1[t0:t0+dt]\n",
    "received_2 = source_shifted[t0+td:t0+td+dt]+A*noise2[t0:t0+dt]"
   ]
  },
  {
   "cell_type": "code",
   "execution_count": null,
   "id": "8b839522",
   "metadata": {},
   "outputs": [],
   "source": [
    "fig = px.line(np.abs(fft(received_1)),log_x=True)\n",
    "fig.add_scatter(y=np.abs(fft(received_2)))\n",
    "fig.show()"
   ]
  },
  {
   "cell_type": "code",
   "execution_count": null,
   "id": "c8377d19",
   "metadata": {},
   "outputs": [],
   "source": [
    "px.line(sig.correlate(np.abs(fft(received_1)),np.abs(fft(received_2)),mode=\"same\"))"
   ]
  },
  {
   "cell_type": "code",
   "execution_count": null,
   "id": "5af7c8a2",
   "metadata": {},
   "outputs": [],
   "source": [
    "data = {\n",
    "   'time':np.arange(dt),\n",
    "   'amplitude1':received_1,\n",
    "   'amplitude2':received_2\n",
    "}\n",
    "df = pd.DataFrame(data)"
   ]
  },
  {
   "cell_type": "code",
   "execution_count": null,
   "id": "1bc1dcd6",
   "metadata": {},
   "outputs": [],
   "source": [
    "fig = px.line(df,x='time',y='amplitude1')\n",
    "fig.add_scatter(x=df['time'],y=df['amplitude2'])\n",
    "fig.show()"
   ]
  },
  {
   "cell_type": "code",
   "execution_count": null,
   "id": "1da8581d",
   "metadata": {
    "scrolled": true
   },
   "outputs": [],
   "source": [
    "fig = px.line(sig.correlate(received_1,received_2,mode=\"same\"))\n",
    "fig.show()"
   ]
  },
  {
   "cell_type": "code",
   "execution_count": null,
   "id": "1d766af1",
   "metadata": {},
   "outputs": [],
   "source": [
    "ipd.Audio(received_1,rate=sr1)"
   ]
  },
  {
   "cell_type": "code",
   "execution_count": null,
   "id": "04c3384a",
   "metadata": {},
   "outputs": [],
   "source": [
    "data = sample_doppler(np.logspace(-6,-1,20),5)\n",
    "data_res = sample_doppler(np.logspace(-6,-1,20),5,.5)\n",
    "data_res2 = sample_doppler(np.logspace(-6,-1,20),5,2)"
   ]
  },
  {
   "cell_type": "code",
   "execution_count": null,
   "id": "81a370b7",
   "metadata": {},
   "outputs": [],
   "source": [
    "fig = px.line(data,x='factors',y='diff',log_x=True)\n",
    "fig.add_scatter(x=data_res['factors'],y=data_res['diff'])\n",
    "fig.add_scatter(x=data_res2['factors'],y=data_res2['diff'])"
   ]
  },
  {
   "cell_type": "code",
   "execution_count": null,
   "id": "ecad9781",
   "metadata": {},
   "outputs": [],
   "source": [
    "fig = px.line(data,x='factors',y='rel_height',log_x=True)\n",
    "fig.add_scatter(x=data_res['factors'],y=data_res['rel_height'])\n",
    "fig.add_scatter(x=data_res2['factors'],y=data_res2['rel_height'])"
   ]
  },
  {
   "cell_type": "code",
   "execution_count": null,
   "id": "c3f547bf",
   "metadata": {},
   "outputs": [],
   "source": [
    "def equalize(signal):\n",
    "    ft = fft(signal)\n",
    "    eq_ft = []\n",
    "    for i in ft:\n",
    "        if abs(i) > 1e-4:\n",
    "            eq_ft.append(i/abs(i))\n",
    "        else:\n",
    "            eq_ft.append(i)\n",
    "    return(np.real(ifft(eq_ft)))"
   ]
  },
  {
   "cell_type": "markdown",
   "id": "0f12941a",
   "metadata": {},
   "source": [
    "## Amplitude of noise"
   ]
  },
  {
   "cell_type": "code",
   "execution_count": null,
   "id": "783c7c61",
   "metadata": {},
   "outputs": [],
   "source": [
    "sr4/50"
   ]
  },
  {
   "cell_type": "code",
   "execution_count": null,
   "id": "f771fe05",
   "metadata": {},
   "outputs": [],
   "source": [
    "def sample_A(As,Nsim):\n",
    "    lo = 20\n",
    "    hi = 2000\n",
    "    diff = []\n",
    "    difff = []\n",
    "    rel_height = []\n",
    "    rel_heightf = []\n",
    "    for A in As:\n",
    "        d = []\n",
    "        df = []\n",
    "        rh = []\n",
    "        rhf = []\n",
    "        \n",
    "        for i in range(int(Nsim)):\n",
    "            \n",
    "            N = 5000\n",
    "            t = np.arange(0,N,1)\n",
    "            T = 100\n",
    "            signal8 = y4\n",
    "            noise1 = np.random.normal(0,1,N)\n",
    "            noise1 = A*noise1/max(noise1)\n",
    "            noise2 = np.random.normal(0,1,N)\n",
    "            noise2 = A*noise2/max(noise2)\n",
    "\n",
    "            source = signal8/max(signal8)\n",
    "            t0 = int(sr4*5)\n",
    "            dt = int(sr4*0.2)\n",
    "            td = sr4//50\n",
    "            received_1 = source[t0:t0+dt]+noise1[:dt]\n",
    "            received_2 = source[t0+td:t0+td+dt]+noise2[:dt]\n",
    "            #filtered_1 = butter_filter(received_1,[lo,hi],sr1,10)\n",
    "            #filtered_2 = butter_filter(received_2,[lo,hi],sr1,10)\n",
    "            corr = sig.correlate(received_1,received_2,mode=\"same\")\n",
    "            maxima = corr[sig.argrelmax(corr)[0]]\n",
    "            maxima_sorted = np.sort(maxima)\n",
    "            max_cross = np.argmax(corr)\n",
    "            relative_height = maxima_sorted[-1]/maxima_sorted[-2]\n",
    "            d.append(max_cross-dt//2)\n",
    "            rh.append(relative_height)\n",
    "            \n",
    "            corr = sig.correlate(equalize(received_1),equalize(received_2),mode=\"same\")\n",
    "            maxima = corr[sig.argrelmax(corr)[0]]\n",
    "            maxima_sorted = np.sort(maxima)\n",
    "            max_cross = np.argmax(corr)\n",
    "            relative_height = maxima_sorted[-1]/maxima_sorted[-2]\n",
    "            df.append(max_cross-dt//2)\n",
    "            rhf.append(relative_height)\n",
    "        rel_height.append(np.mean(rh))\n",
    "        rel_heightf.append(np.mean(rhf))\n",
    "        diff.append(np.mean(d))\n",
    "        difff.append(np.mean(df))\n",
    "    data = {\n",
    "   'A':As,\n",
    "    'SNR (dB)': np.log(1/As)*10,\n",
    "   'unfiltered':np.array(diff)/sr4*1000,\n",
    "   'equalized':np.array(difff)/sr4*1000,\n",
    "   'relative strength (unfiltered)':rel_height,\n",
    "    'relative strength (equalized)': rel_heightf\n",
    "    }\n",
    "    return pd.DataFrame(data)"
   ]
  },
  {
   "cell_type": "code",
   "execution_count": null,
   "id": "51410f95",
   "metadata": {},
   "outputs": [],
   "source": [
    "out = sample_A(np.logspace(-1,1,50),5)"
   ]
  },
  {
   "cell_type": "code",
   "execution_count": null,
   "id": "499cd418",
   "metadata": {
    "scrolled": true
   },
   "outputs": [],
   "source": [
    "fig = px.line(out,x='SNR (dB)',y=['relative strength (unfiltered)','relative strength (equalized)'],log_y=False,labels={'value':'relative strength'})\n",
    "\n",
    "fig.update_layout(\n",
    "    font_family=\"Times New Roman\",\n",
    "    font_color=\"black\",\n",
    "    font_size=25,\n",
    "    autosize=False,\n",
    "    width=800,\n",
    "    height=500,\n",
    "    showlegend=False)\n",
    "\n",
    "fig.show()"
   ]
  },
  {
   "cell_type": "code",
   "execution_count": null,
   "id": "77f3d458",
   "metadata": {},
   "outputs": [],
   "source": [
    "fig = px.line(out,x='SNR (dB)',y=['unfiltered','equalized'],log_y=False,labels={'value':'predicted shift (ms)'})\n",
    "\n",
    "fig.update_layout(\n",
    "    font_family=\"Times New Roman\",\n",
    "    font_color=\"black\",\n",
    "    font_size=25,\n",
    "    autosize=False,\n",
    "    width=800,\n",
    "    height=500,\n",
    "    showlegend=False)\n",
    "\n",
    "fig.show()"
   ]
  },
  {
   "cell_type": "code",
   "execution_count": null,
   "id": "bc8a0d98",
   "metadata": {},
   "outputs": [],
   "source": [
    "px.line(out,x='A',y=\"rel_height\",log_x=True)"
   ]
  },
  {
   "cell_type": "code",
   "execution_count": null,
   "id": "adbd2b7a",
   "metadata": {},
   "outputs": [],
   "source": [
    "def plotly_dual_axis(data1,data2, title=\"\", y1=\"\", y2=\"\"):\n",
    "    # Create subplot with secondary axis\n",
    "    subplot_fig = make_subplots(specs=[[{\"secondary_y\": True}]])\n",
    "\n",
    "    #Put Dataframe in fig1 and fig2\n",
    "    fig1 = px.line(data1)\n",
    "    fig2 = px.line(data2)\n",
    "    #Change the axis for fig2\n",
    "    fig2.update_traces(yaxis=\"y2\")\n",
    "\n",
    "    #Add the figs to the subplot figure\n",
    "    subplot_fig.add_traces(fig1.data + fig2.data)\n",
    "\n",
    "    #FORMAT subplot figure\n",
    "    subplot_fig.update_layout(title=title, yaxis=dict(title=y1), yaxis2=dict(title=y2))\n",
    "\n",
    "    #RECOLOR so as not to have overlapping colors\n",
    "    subplot_fig.for_each_trace(lambda t: t.update(line=dict(color=t.marker.color)))\n",
    "\n",
    "\n",
    "    return subplot_fig"
   ]
  },
  {
   "cell_type": "markdown",
   "id": "17bc64d4",
   "metadata": {},
   "source": [
    "## Presence of unwanted noise signal"
   ]
  },
  {
   "cell_type": "code",
   "execution_count": null,
   "id": "dddbb9e6",
   "metadata": {},
   "outputs": [],
   "source": [
    "def sample_unwanted(As,Nsim,filt=False):\n",
    "    diff2 = []\n",
    "    rel_height2 = []\n",
    "    rel_height1 = []\n",
    "    diff1 = []\n",
    "    lo = 20\n",
    "    hi = 2000\n",
    "    for A in As:\n",
    "\n",
    "        for i in range(int(Nsim)):\n",
    "            rh1 = []\n",
    "            rh2 = []\n",
    "            d1 = []\n",
    "            d2 = []\n",
    "            N = 50000\n",
    "            t = np.arange(0,N,1)\n",
    "            signal8 = y4\n",
    "            noise1 = .1*np.random.normal(0,1,N)\n",
    "            noise2 = .1*np.random.normal(0,1,N)\n",
    "            noise = A*np.random.normal(0,1,N)\n",
    "            source = signal8/max(signal8)\n",
    "\n",
    "            t0 = 15000\n",
    "            td = 100\n",
    "            td_noise=200\n",
    "            dt = 2000\n",
    "            received_1 = source[t0:t0+dt]+noise1[t0:t0+dt]+noise[t0:t0+dt]\n",
    "            received_2 = source[t0+td:t0+td+dt]+noise2[t0:t0+dt]+noise[t0+td_noise:t0+td_noise+dt]\n",
    "            if filt:\n",
    "                received_1 = equalize(received_1)\n",
    "                received_2 = equalize(received_2)\n",
    "            corr = sig.correlate(received_1,received_2,mode=\"same\")\n",
    "            arm = sig.argrelmax(corr)[0]\n",
    "            maxima = corr[arm]\n",
    "            max_cross1 = arm[np.argmax(maxima)]\n",
    "            max_cross2 = arm[np.argsort(maxima)[-2]]\n",
    "            relative_height1 = maxima[np.argmax(maxima)]/maxima[np.argsort(maxima)[-2]]\n",
    "            relative_height2 = maxima[np.argsort(maxima)[-2]]/maxima[np.argsort(maxima)[-3]]\n",
    "            d1.append(max_cross1-dt//2)\n",
    "            d2.append(max_cross2-dt//2)\n",
    "            rh1.append(relative_height1)\n",
    "            rh2.append(relative_height2)\n",
    "        rel_height1.append(np.mean(rh1))\n",
    "        rel_height2.append(np.mean(rh2))\n",
    "        diff1.append(np.mean(d1))\n",
    "        diff2.append(np.mean(d2))\n",
    "        \n",
    "    display(len(rel_height1))\n",
    "    data = {\n",
    "   'A':As,\n",
    "   'first peak':diff1,\n",
    "   'second peak':diff2,\n",
    "   'rel_height1':rel_height1,\n",
    "    'rel_height2': rel_height2\n",
    "    }\n",
    "    \n",
    "    out = pd.DataFrame(data)\n",
    "    \n",
    "    return out"
   ]
  },
  {
   "cell_type": "code",
   "execution_count": null,
   "id": "59cf70e2",
   "metadata": {},
   "outputs": [],
   "source": [
    "out = sample_unwanted(np.logspace(-2,1,20),5,True)"
   ]
  },
  {
   "cell_type": "code",
   "execution_count": null,
   "id": "76bd88fa",
   "metadata": {
    "scrolled": false
   },
   "outputs": [],
   "source": [
    "fig = px.line(out,x='A',y=['first peak','second peak'],log_x=True,labels={'value':'cross correlation index'})\n",
    "fig.update_layout(yaxis_range=[0,300])\n",
    "fig.show()"
   ]
  },
  {
   "cell_type": "code",
   "execution_count": null,
   "id": "1b210e0b",
   "metadata": {},
   "outputs": [],
   "source": [
    "fig = px.line(out,x='A',y=['rel_height1','rel_height2'],log_x=True)\n",
    "#fig.add_scatter(x=out_filt['A'],y=out_filt['rel_height1'],name='First peak - filtered')\n",
    "#fig.add_scatter(x=out_filt['A'],y=out_filt['rel_height2'],name='Second peak - filtered')\n",
    "fig.show()"
   ]
  },
  {
   "cell_type": "code",
   "execution_count": null,
   "id": "066b801d",
   "metadata": {},
   "outputs": [],
   "source": [
    "N = 50000\n",
    "t = np.arange(0,N,1)\n",
    "T = 10\n",
    "A = 1\n",
    "\n",
    "filt = True\n",
    "lo, hi = 50,1000\n",
    "\n",
    "signal0 = np.zeros(N)\n",
    "signal1 = A*(np.sin(t/T))\n",
    "signal5 = y1\n",
    "signal6 = y2\n",
    "signal7 = y3\n",
    "signal8 = y4\n",
    "noise = A*np.random.normal(0,1,N)\n",
    "noise1 = .5*np.random.normal(0,1,N)\n",
    "noise2 = .5*np.random.normal(0,1,N)\n",
    "\n",
    "source = signal8/max(signal8)\n",
    "\n",
    "t0 = 15000\n",
    "dt = 2000\n",
    "td = 100\n",
    "td_noise = 200\n",
    "received_1 = source[t0:t0+dt]+noise1[t0:t0+dt]+noise[t0:t0+dt]\n",
    "received_2 = source[t0+td:t0+td+dt]+noise2[t0:t0+dt]+noise[t0+td_noise:t0+td_noise+dt]\n",
    "if filt:\n",
    "    received_1 = butter_filter(received_1,lo,hi,sr1,10)\n",
    "    received_2 = butter_filter(received_2,lo,hi,sr1,10)"
   ]
  },
  {
   "cell_type": "code",
   "execution_count": null,
   "id": "bab5d162",
   "metadata": {},
   "outputs": [],
   "source": [
    "fig = px.line(sig.correlate(received_1,received_2,mode=\"same\"))\n",
    "fig.show()"
   ]
  },
  {
   "cell_type": "code",
   "execution_count": null,
   "id": "52281875",
   "metadata": {},
   "outputs": [],
   "source": [
    "maxima = sig.correlate(received_1,received_2,mode=\"same\")\n",
    "maxima[np.argmax(maxima)]"
   ]
  },
  {
   "cell_type": "markdown",
   "id": "1182cc30",
   "metadata": {},
   "source": [
    "## Sample Length (uncorrelated noise)"
   ]
  },
  {
   "cell_type": "code",
   "execution_count": null,
   "id": "1af7a683",
   "metadata": {},
   "outputs": [],
   "source": [
    "def sample_dt(dts,Nsim):\n",
    "    lo = 20\n",
    "    hi = 2000\n",
    "    diff = []\n",
    "    difff = []\n",
    "    rel_height = []\n",
    "    rel_heightf = []\n",
    "    for dt in dts:\n",
    "        dt = int(dt)\n",
    "        d = []\n",
    "        df = []\n",
    "        rh = []\n",
    "        rhf = []\n",
    "        \n",
    "        for i in range(int(Nsim)):\n",
    "            N = 50000\n",
    "            T = 100\n",
    "            A = 0.1\n",
    "            signal8 = y4\n",
    "            noise1 = A*np.random.normal(0,1,N)\n",
    "            noise2 = A*np.random.normal(0,1,N)\n",
    "\n",
    "            source = signal8/max(signal8)\n",
    "            t0 = int(sr4*5)\n",
    "            td = sr4//50\n",
    "            received_1 = source[t0:t0+dt]+noise1[:dt]\n",
    "            received_2 = source[t0+td:t0+td+dt]+noise2[:dt]\n",
    "            #filtered_1 = butter_filter(received_1,[lo,hi],sr1,10)\n",
    "            #filtered_2 = butter_filter(received_2,[lo,hi],sr1,10)\n",
    "            corr = sig.correlate(received_1,received_2,mode=\"same\")\n",
    "            maxima = corr[sig.argrelmax(corr)[0]]\n",
    "            maxima_sorted = np.sort(maxima)\n",
    "            max_cross = np.argmax(corr)\n",
    "            relative_height = maxima_sorted[-1]/maxima_sorted[-2]\n",
    "            d.append(max_cross-dt//2)\n",
    "            rh.append(relative_height)\n",
    "            \n",
    "            corr = sig.correlate(equalize(received_1),equalize(received_2),mode=\"same\")\n",
    "            maxima = corr[sig.argrelmax(corr)[0]]\n",
    "            maxima_sorted = np.sort(maxima)\n",
    "            max_cross = np.argmax(corr)\n",
    "            relative_height = maxima_sorted[-1]/maxima_sorted[-2]\n",
    "            df.append(max_cross-dt//2)\n",
    "            rhf.append(relative_height)\n",
    "        rel_height.append(np.mean(rh))\n",
    "        rel_heightf.append(np.mean(rhf))\n",
    "        diff.append(np.mean(d))\n",
    "        difff.append(np.mean(df))\n",
    "    data = {\n",
    "   'dt':dts/sr4*1000,\n",
    "   'diff':np.array(diff)/sr4*1000,\n",
    "   'difff':np.array(difff)/sr4*1000,\n",
    "   'rel_height':rel_height,\n",
    "    'rel_heightf': rel_heightf\n",
    "    }\n",
    "    return pd.DataFrame(data)"
   ]
  },
  {
   "cell_type": "code",
   "execution_count": null,
   "id": "fa0316a2",
   "metadata": {},
   "outputs": [],
   "source": [
    "out = sample_dt(np.logspace(2,3.5,200),5)"
   ]
  },
  {
   "cell_type": "code",
   "execution_count": null,
   "id": "bd3f0ec3",
   "metadata": {},
   "outputs": [],
   "source": [
    "fig = px.line(out,x='dt',y=['diff','difff'],log_x=False,labels={'dt':'sampling time (ms)','value': 'timeshift (ms)'})\n",
    "fig.update_layout(\n",
    "    font_family=\"Times New Roman\",\n",
    "    font_color=\"black\",\n",
    "    font_size=25,\n",
    "    autosize=False,\n",
    "    width=800,\n",
    "    height=500,\n",
    "    showlegend=False)\n",
    "fig.show()"
   ]
  },
  {
   "cell_type": "code",
   "execution_count": null,
   "id": "c613dd79",
   "metadata": {
    "scrolled": false
   },
   "outputs": [],
   "source": [
    "fig = px.line(out,x='dt',y=['rel_height','rel_heightf'],log_x=False,labels={'dt':'sampling time (ms)','value': 'relative strength'})\n",
    "fig.update_layout(\n",
    "    font_family=\"Times New Roman\",\n",
    "    font_color=\"black\",\n",
    "    font_size=25,\n",
    "    autosize=False,\n",
    "    width=800,\n",
    "    height=500,\n",
    "    showlegend=False)\n",
    "fig.show()"
   ]
  },
  {
   "cell_type": "markdown",
   "id": "03f70045",
   "metadata": {},
   "source": [
    "# Combining length and noise"
   ]
  },
  {
   "cell_type": "code",
   "execution_count": null,
   "id": "7e479c77",
   "metadata": {},
   "outputs": [],
   "source": [
    "def sample(As,dts,Nsim):\n",
    "    out1 = np.zeros([len(dts),len(As)])\n",
    "    out2 = np.zeros([len(dts),len(As)])\n",
    "\n",
    "    for i in range(len(As)):\n",
    "        A = As[i]\n",
    "        for j in range(len(dts)):\n",
    "            dt = int(dts[j])\n",
    "            diff = []\n",
    "            rel_height = []\n",
    "            for k in range(int(Nsim)):\n",
    "                N = 100000\n",
    "                t = np.arange(0,N,1)\n",
    "                T = 1000\n",
    "                signal8 = y4\n",
    "                noise1 = np.random.normal(0,1,N)\n",
    "                noise1 = A*noise1/max(noise1)\n",
    "                noise2 = np.random.normal(0,1,N)\n",
    "                noise2 = A*noise2/max(noise2)\n",
    "\n",
    "                source = signal8/max(signal8)\n",
    "\n",
    "                t0 = int(sr4*5)\n",
    "                td = sr4//50\n",
    "                received_1 = source[t0:t0+dt]+noise1[:dt]\n",
    "                received_2 = source[t0+td:t0+td+dt]+noise2[:dt]\n",
    "                corr = sig.correlate(received_1,received_2,mode=\"same\")\n",
    "                maxima = corr[sig.argrelmax(corr)[0]]\n",
    "                maxima_sorted = np.sort(maxima)\n",
    "                max_cross = np.argmax(corr)\n",
    "                relative_height = maxima_sorted[-1]/maxima_sorted[-2]\n",
    "                rel_height.append(relative_height)\n",
    "            out1[i,j] = np.mean(rel_height)\n",
    "            if int(np.mean(max_cross-dt//2))==td:\n",
    "                out2[i,j] = 1\n",
    "            else:\n",
    "                out2[i,j] = 0\n",
    "    return [out1,out2]"
   ]
  },
  {
   "cell_type": "code",
   "execution_count": null,
   "id": "8cd2f590",
   "metadata": {},
   "outputs": [],
   "source": [
    "sampling_times = np.linspace(200,20000,40)\n",
    "amplitudes = np.logspace(-3,2,40)\n",
    "data = sample(amplitudes,sampling_times,1)"
   ]
  },
  {
   "cell_type": "code",
   "execution_count": null,
   "id": "c098bd69",
   "metadata": {},
   "outputs": [],
   "source": [
    "strong_signal = np.zeros([len(data[0]),len(data[0][0])])\n",
    "for i in range(len(data[0])):\n",
    "    for j in range(len(data[0][0])):\n",
    "        if data[0][i][j] > 1.5:\n",
    "            strong_signal[i][j] = 2+np.log(data[0][i][j]-.5)\n",
    "        else:\n",
    "            strong_signal[i][j] = data[0][i][j]"
   ]
  },
  {
   "cell_type": "code",
   "execution_count": null,
   "id": "66f1258e",
   "metadata": {},
   "outputs": [],
   "source": [
    "fig = px.imshow(strong_signal,labels=dict(x=\"sampling time (10ms)\", y=\"SNR (dB)\", color=\"signal strength\"),\n",
    "                x=sampling_times/sr4*100,\n",
    "                y=np.log10(1/amplitudes)*10,aspect='auto')\n",
    "fig.update_layout(font_family=\"Times New Roman\",\n",
    "    font_color=\"black\",\n",
    "    font_size=25,\n",
    "    autosize=True,\n",
    "    width=1000,\n",
    "    height=500,\n",
    "    showlegend=False,\n",
    "    yaxis = dict(scaleanchor = 'x'),\n",
    "                 plot_bgcolor='rgba(0,0,0,0)',coloraxis_showscale=True)\n",
    "fig.show()"
   ]
  },
  {
   "cell_type": "code",
   "execution_count": null,
   "id": "da3c08dc",
   "metadata": {},
   "outputs": [],
   "source": [
    "fig = px.imshow(data[1],labels=dict(x=\"sampling time (10ms)\", y=\"SNR (dB)\", color=\"correct shift\"),\n",
    "                x=sampling_times/sr4*100,\n",
    "                y=np.log10(1/amplitudes)*10,aspect='auto')\n",
    "fig.update_layout(font_family=\"Times New Roman\",\n",
    "    font_color=\"black\",\n",
    "    font_size=25,\n",
    "    autosize=True,\n",
    "    width=1000,\n",
    "    height=500,\n",
    "    showlegend=False,\n",
    "    yaxis = dict(scaleanchor = 'x'),\n",
    "                 plot_bgcolor='rgba(0,0,0,0)',coloraxis_showscale=True)\n",
    "fig.show()"
   ]
  },
  {
   "cell_type": "markdown",
   "id": "cc5eb77d",
   "metadata": {},
   "source": [
    "## Doppler and Sampling"
   ]
  },
  {
   "cell_type": "code",
   "execution_count": null,
   "id": "9de9d29c",
   "metadata": {},
   "outputs": [],
   "source": []
  },
  {
   "cell_type": "code",
   "execution_count": null,
   "id": "3c06e639",
   "metadata": {},
   "outputs": [],
   "source": [
    "def sample(factors,Nsim):\n",
    "    out1 = np.zeros([len(factors)])\n",
    "    out2 = np.zeros([len(factors)])\n",
    "\n",
    "    for i in range(len(factors)):\n",
    "        f = factors[i]\n",
    "        dt = sr4//5\n",
    "        diff = []\n",
    "        rel_height = []\n",
    "        for k in range(int(Nsim)):\n",
    "            N = 40000\n",
    "            t = np.arange(0,N,1)\n",
    "            T = 1000\n",
    "            signal8 = y4\n",
    "            A = .01\n",
    "            noise1 = A*np.random.normal(0,1,N)\n",
    "            noise2 = A*np.random.normal(0,1,N)\n",
    "\n",
    "            source = signal8/max(signal8)\n",
    "            source_shifted = sig.resample(source,int(len(source)*f))\n",
    "\n",
    "            t0 = int(sr4*5)\n",
    "            td = sr4//50\n",
    "            received_1 = source[t0:t0+dt]+noise1[:dt]\n",
    "            received_2 = source_shifted[t0+td:t0+td+dt]+noise2[:dt]\n",
    "            corr = sig.correlate(equalize(received_1),equalize(received_2),mode=\"same\")\n",
    "            maxima = corr[sig.argrelmax(corr)[0]]\n",
    "            maxima_sorted = np.sort(maxima)\n",
    "            max_cross = np.argmax(corr)\n",
    "            relative_height = maxima_sorted[-1]/maxima_sorted[-2]\n",
    "            rel_height.append(relative_height)\n",
    "        out1[i] = np.mean(rel_height)\n",
    "        out2[i] = int(np.mean(max_cross-dt//2))-td\n",
    "    return [out1,out2] "
   ]
  },
  {
   "cell_type": "code",
   "execution_count": null,
   "id": "e08b162c",
   "metadata": {},
   "outputs": [],
   "source": [
    "shifts = np.linspace(0.99,1.01,20)\n",
    "data = sample(shifts,10)"
   ]
  },
  {
   "cell_type": "code",
   "execution_count": null,
   "id": "1396f532",
   "metadata": {},
   "outputs": [],
   "source": [
    "px.line(x=shifts,y=data[1])"
   ]
  },
  {
   "cell_type": "code",
   "execution_count": null,
   "id": "9fe68615",
   "metadata": {},
   "outputs": [],
   "source": [
    "def sample(factors,dts,Nsim):\n",
    "    out1 = np.zeros([len(dts),len(factors)])\n",
    "    out2 = np.zeros([len(dts),len(factors)])\n",
    "\n",
    "    for i in range(len(factors)):\n",
    "        f = factors[i]\n",
    "        for j in range(len(dts)):\n",
    "            dt = int(dts[j])\n",
    "            diff = []\n",
    "            rel_height = []\n",
    "            for k in range(int(Nsim)):\n",
    "                N = 200000\n",
    "                t = np.arange(0,N,1)\n",
    "                T = 1000\n",
    "                signal8 = y4\n",
    "                A = .01\n",
    "                noise1 = A*np.random.normal(0,1,N)\n",
    "                noise2 = A*np.random.normal(0,1,N)\n",
    "\n",
    "                source = signal8/max(signal8)\n",
    "                source_shifted = sig.resample(source,int(len(source)/(1+f)))\n",
    "                \n",
    "                t0 = 15000\n",
    "                td = 100\n",
    "                received_1 = source[t0:t0+dt]+noise1[t0:t0+dt]\n",
    "                received_2 = source_shifted[t0+td:t0+td+dt]+noise2[t0:t0+dt]\n",
    "                corr = sig.correlate(received_1,received_2,mode=\"same\")\n",
    "                maxima = corr[sig.argrelmax(corr)[0]]\n",
    "                maxima_sorted = np.sort(maxima)\n",
    "                max_cross = np.argmax(corr)\n",
    "                relative_height = maxima_sorted[-1]/maxima_sorted[-2]\n",
    "                rel_height.append(relative_height)\n",
    "            out1[i,j] = np.mean(rel_height)\n",
    "            out2[i,j] = abs(int(np.mean(max_cross-dt//2))-td)\n",
    "    return [out1,out2]"
   ]
  },
  {
   "cell_type": "code",
   "execution_count": null,
   "id": "959e2d6c",
   "metadata": {},
   "outputs": [],
   "source": [
    "shifts = np.logspace(-6,0,30)\n",
    "sampling_times = np.logspace(2,5,30)\n",
    "data = sample(shifts,sampling_times,10)"
   ]
  },
  {
   "cell_type": "code",
   "execution_count": null,
   "id": "243a4943",
   "metadata": {
    "scrolled": false
   },
   "outputs": [],
   "source": [
    "fig = px.imshow(data[0],labels=dict(x=\"doppler shift\", y=\"sampling duration\", color=\"signal strength\"),\n",
    "                x=np.log10(shifts),\n",
    "                y=np.log10(sampling_times))\n",
    "fig.update_xaxes(side=\"top\")\n",
    "fig.show()"
   ]
  },
  {
   "cell_type": "code",
   "execution_count": null,
   "id": "03927331",
   "metadata": {},
   "outputs": [],
   "source": [
    "fig = px.imshow(np.log(1+data[1]),labels=dict(x=\"doppler shift\", y=\"sampling time\", color=\"absolute error\"),\n",
    "                x=np.log10(shifts),\n",
    "                y=np.log10(sampling_times))\n",
    "fig.update_xaxes(side=\"top\")\n",
    "fig.show()"
   ]
  },
  {
   "cell_type": "markdown",
   "id": "6b2d3ef0",
   "metadata": {},
   "source": [
    "# FILTERING"
   ]
  },
  {
   "cell_type": "code",
   "execution_count": null,
   "id": "04676ea5",
   "metadata": {},
   "outputs": [],
   "source": [
    "def butter_filter(data, freqs, sampling_frequency, order):\n",
    "    sos = sig.butter(order, freqs, btype='band', fs = sampling_frequency, analog=False,output='sos')\n",
    "    y = sig.sosfilt(sos, data)\n",
    "    return y"
   ]
  },
  {
   "cell_type": "code",
   "execution_count": null,
   "id": "e5c26911",
   "metadata": {},
   "outputs": [],
   "source": []
  },
  {
   "cell_type": "code",
   "execution_count": null,
   "id": "c907ca17",
   "metadata": {},
   "outputs": [],
   "source": [
    "x = np.ones(10000)\n",
    "px.line(np.abs(fft(butter_filter(ifft(x),[100,1000],5000,10))))"
   ]
  },
  {
   "cell_type": "code",
   "execution_count": null,
   "id": "cf7d3e41",
   "metadata": {},
   "outputs": [],
   "source": [
    "px.line(sos[0])"
   ]
  },
  {
   "cell_type": "code",
   "execution_count": null,
   "id": "80308389",
   "metadata": {},
   "outputs": [],
   "source": [
    "N = 500000\n",
    "t = np.arange(0,N,1)\n",
    "f = 5000\n",
    "A = .2\n",
    "lo = 100\n",
    "hi = 2000\n",
    "\n",
    "signal0 = np.zeros(N)\n",
    "signal1 = (np.sin(t*2*np.pi*f/sr1))\n",
    "signal2 = A*(1/np.sqrt(5)*np.sin(t/T)+2/np.sqrt(5)*np.cos(3*t/T))\n",
    "signal3 = A*(np.sin(np.sqrt(t)/T))\n",
    "signal4 = A*(np.sin(t**2/T))\n",
    "signal5 = y1\n",
    "signal6 = y2\n",
    "signal7 = y3\n",
    "signal8 = y4\n",
    "noise = np.random.normal(0,1,N)\n",
    "noise1 = A*np.random.normal(0,1,N)\n",
    "noise2 = A*np.random.normal(0,1,N)\n",
    "noise_cauchy = np.random.standard_cauchy(N)\n",
    "\n",
    "\n",
    "source = signal8/max(signal8)\n",
    "\n",
    "time_start = 15000\n",
    "time_duration = 10000\n",
    "time_diff = 100\n",
    "received_1 = source[time_start:time_start+time_duration]+noise1[time_start+time_diff:time_start+time_duration+time_diff]+signal1[time_start:time_start+time_duration]\n",
    "received_2 = source[time_start+time_diff:time_start+time_duration+time_diff]+noise2[time_start+time_diff:time_start+time_duration+time_diff]+signal1[time_start+time_diff*2:time_start+time_duration+time_diff*2]\n",
    "\n",
    "filtered_1 = butter_filter(received_1,[lo,hi],sr4,10)\n",
    "filtered_2 = butter_filter(received_2,[lo,hi],sr4,10)"
   ]
  },
  {
   "cell_type": "code",
   "execution_count": null,
   "id": "57cd554c",
   "metadata": {},
   "outputs": [],
   "source": [
    "data = {\n",
    "   'time':np.arange(time_duration),\n",
    "   'received_1':received_1,\n",
    "   'received_2':received_2,\n",
    "   'filtered_1': filtered_1,\n",
    "   'filtered_2':filtered_2,\n",
    "   'corr_1': sig.correlate(received_1,received_2,mode=\"same\"),\n",
    "   'corr_2': sig.correlate(filtered_1,filtered_2,mode=\"same\")\n",
    "}\n",
    "df = pd.DataFrame(data)"
   ]
  },
  {
   "cell_type": "code",
   "execution_count": null,
   "id": "f8431bd8",
   "metadata": {},
   "outputs": [],
   "source": [
    "fig = px.line(df,x='time',y=['received_1','filtered_1'])\n",
    "fig.show()"
   ]
  },
  {
   "cell_type": "code",
   "execution_count": null,
   "id": "c91bd5ad",
   "metadata": {},
   "outputs": [],
   "source": [
    "fig = px.line(data,x='time',y=['corr_1','corr_2'])\n",
    "fig.show()"
   ]
  },
  {
   "cell_type": "code",
   "execution_count": null,
   "id": "6bb195a2",
   "metadata": {},
   "outputs": [],
   "source": [
    "ipd.Audio(filtered_1,rate=sr1)"
   ]
  },
  {
   "cell_type": "code",
   "execution_count": null,
   "id": "b41bd8b6",
   "metadata": {},
   "outputs": [],
   "source": [
    "a = np.zeros([2,5])\n",
    "a[1,0]"
   ]
  },
  {
   "cell_type": "markdown",
   "id": "a1805232",
   "metadata": {},
   "source": [
    "# CONDITIE"
   ]
  },
  {
   "cell_type": "code",
   "execution_count": null,
   "id": "823b5dd4",
   "metadata": {},
   "outputs": [],
   "source": [
    "mics = [(0,0,0),(1,0,0),(0,1,0),(0,0,1)]\n",
    "point = (5,5,5)\n",
    "def rel_distances(points,mic_pos = [(0,0,0),(1,0,0),(0,1,0),(0,0,1)]):\n",
    "    res = np.zeros([len(points),len(mic_pos)-1])\n",
    "    for i in range(len(points)):\n",
    "        distances = []\n",
    "        for j in range(len(mic_pos)):\n",
    "            distances.append(np.linalg.norm(np.array(points[i])-np.array(mic_pos[j])))\n",
    "        for j in range(len(distances)-1):\n",
    "            res[i,j] = distances[0]-distances[j+1]\n",
    "    return res"
   ]
  },
  {
   "cell_type": "code",
   "execution_count": null,
   "id": "c9fefc6f",
   "metadata": {},
   "outputs": [],
   "source": [
    "point = np.array([10,10,10])\n",
    "eps = 0.1\n",
    "np.mean(condition_test([point],eps,10000),axis=0)/eps"
   ]
  },
  {
   "cell_type": "code",
   "execution_count": null,
   "id": "c4373d21",
   "metadata": {},
   "outputs": [],
   "source": [
    "cond = []\n",
    "eps = .01\n",
    "t = np.linspace(2,20,25)\n",
    "for i in t:\n",
    "    cond.append(np.mean(condition_test([np.array([i,i,i])/np.sqrt(3)],eps,1000))/eps)"
   ]
  },
  {
   "cell_type": "code",
   "execution_count": null,
   "id": "ba9188a1",
   "metadata": {},
   "outputs": [],
   "source": [
    "px.line(x=t,y=1/np.array(cond))"
   ]
  },
  {
   "cell_type": "code",
   "execution_count": null,
   "id": "94321e78",
   "metadata": {},
   "outputs": [],
   "source": [
    "def random_three_vector():\n",
    "    phi = np.random.uniform(0,np.pi*2)\n",
    "    costheta = np.random.uniform(-1,1)\n",
    "\n",
    "    theta = np.arccos( costheta )\n",
    "    x = np.sin( theta) * np.cos( phi )\n",
    "    y = np.sin( theta) * np.sin( phi )\n",
    "    z = np.cos( theta )\n",
    "    return np.array([x,y,z])\n",
    "\n",
    "def condition_test(point,epsilon,N=1000):\n",
    "    diffs = []\n",
    "    for i in range(N):\n",
    "        diffs.append(abs(rel_distances(point)-rel_distances(point+epsilon*random_three_vector())))\n",
    "    return np.array(diffs)"
   ]
  },
  {
   "cell_type": "code",
   "execution_count": null,
   "id": "6f6e365a",
   "metadata": {},
   "outputs": [],
   "source": [
    "rel_distances(point)"
   ]
  },
  {
   "cell_type": "code",
   "execution_count": null,
   "id": "3e4b3b9a",
   "metadata": {},
   "outputs": [],
   "source": [
    "N = 50000\n",
    "t = np.arange(0,N,1)\n",
    "signal8 = y4\n",
    "A = 0\n",
    "f = .1\n",
    "noise1 = A*np.random.normal(0,1,N)\n",
    "noise2 = A*np.random.normal(0,1,N)\n",
    "\n",
    "source = signal8/max(signal8)\n",
    "source_shifted = sig.resample(source,int(len(source)*(1+f)))\n",
    "                \n",
    "t0 = int(sr4*1)\n",
    "dt = int(sr4)\n",
    "td = sr4//50\n",
    "\n",
    "received_1 = source[t0:t0+dt]\n",
    "received_2 = source_shifted[t0:t0+dt]\n",
    "\n",
    "spectrum_1 = np.abs(fft(received_1))[:dt//2]\n",
    "spectrum_2 = np.abs(fft(received_2))[:dt//2]\n",
    "\n",
    "freqs = np.array(range(dt//2))\n",
    "logfreqs = np.logspace(0,np.log10(dt//2),10000)\n",
    "\n",
    "logspectrum_1 = np.interp(logfreqs,freqs,spectrum_1)\n",
    "logspectrum_2 = np.interp(logfreqs,freqs,spectrum_2)"
   ]
  },
  {
   "cell_type": "code",
   "execution_count": null,
   "id": "078e5a0e",
   "metadata": {},
   "outputs": [],
   "source": [
    "dt//2"
   ]
  },
  {
   "cell_type": "code",
   "execution_count": null,
   "id": "e6635a1b",
   "metadata": {},
   "outputs": [],
   "source": [
    "fig = px.line(x=np.linspace(0,1,10000)*np.log10(dt//2),y=logspectrum_1/max(logspectrum_1),log_x=False,labels={'y':'intensity','x':\"log(f)\"})\n",
    "fig.add_scatter(x=np.linspace(0,1,10000)*np.log10(dt//2),y=logspectrum_2/max(logspectrum_2))\n",
    "fig.update_layout(\n",
    "    font_family=\"Times New Roman\",\n",
    "    font_color=\"black\",\n",
    "    font_size=25,\n",
    "    autosize=False,\n",
    "    width=1000,\n",
    "    height=600,\n",
    "    showlegend=False)"
   ]
  },
  {
   "cell_type": "code",
   "execution_count": null,
   "id": "21e8b4c8",
   "metadata": {},
   "outputs": [],
   "source": [
    "fig = px.line(x=np.linspace(-.5,.5,10000)*np.log10(dt//2),y=sig.correlate(logspectrum_1,logspectrum_2,mode=\"same\")/max(sig.correlate(logspectrum_1,logspectrum_2,mode=\"same\")),labels={'y':'cross-correlation','x':\"(log) frequency shift\"})\n",
    "fig.update_layout(\n",
    "    font_family=\"Times New Roman\",\n",
    "    font_color=\"black\",\n",
    "    font_size=25,\n",
    "    autosize=False,\n",
    "    width=1000,\n",
    "    height=600,\n",
    "    showlegend=False)\n",
    "fig.show()"
   ]
  },
  {
   "cell_type": "code",
   "execution_count": null,
   "id": "92a52097",
   "metadata": {},
   "outputs": [],
   "source": [
    "logfreqs[5094]/logfreqs[5000]"
   ]
  },
  {
   "cell_type": "code",
   "execution_count": null,
   "id": "2a54ab93",
   "metadata": {},
   "outputs": [],
   "source": [
    "10**(.041428)"
   ]
  },
  {
   "cell_type": "code",
   "execution_count": null,
   "id": "376ef9e6",
   "metadata": {},
   "outputs": [],
   "source": []
  }
 ],
 "metadata": {
  "kernelspec": {
   "display_name": "Python 3 (ipykernel)",
   "language": "python",
   "name": "python3"
  },
  "language_info": {
   "codemirror_mode": {
    "name": "ipython",
    "version": 3
   },
   "file_extension": ".py",
   "mimetype": "text/x-python",
   "name": "python",
   "nbconvert_exporter": "python",
   "pygments_lexer": "ipython3",
   "version": "3.7.9"
  }
 },
 "nbformat": 4,
 "nbformat_minor": 5
}
